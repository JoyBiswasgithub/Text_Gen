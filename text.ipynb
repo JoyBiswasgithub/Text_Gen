{
  "nbformat": 4,
  "nbformat_minor": 0,
  "metadata": {
    "colab": {
      "provenance": [],
      "gpuType": "T4"
    },
    "kernelspec": {
      "name": "python3",
      "display_name": "Python 3"
    },
    "language_info": {
      "name": "python"
    },
    "accelerator": "GPU"
  },
  "cells": [
    {
      "cell_type": "code",
      "execution_count": null,
      "metadata": {
        "id": "smW2n-tIfLJm"
      },
      "outputs": [],
      "source": [
        "!mkdir -p ~/.kaggle\n",
        "!cp kaggle.json ~/.kaggle/"
      ]
    },
    {
      "cell_type": "code",
      "source": [
        "!kaggle datasets download -d clmentbisaillon/fake-and-real-news-dataset"
      ],
      "metadata": {
        "colab": {
          "base_uri": "https://localhost:8080/"
        },
        "id": "asYlnG1-jOZi",
        "outputId": "0368a286-804d-4114-b948-3e4a65c64712"
      },
      "execution_count": null,
      "outputs": [
        {
          "output_type": "stream",
          "name": "stdout",
          "text": [
            "Warning: Your Kaggle API key is readable by other users on this system! To fix this, you can run 'chmod 600 /root/.kaggle/kaggle.json'\n",
            "Downloading fake-and-real-news-dataset.zip to /content\n",
            " 98% 40.0M/41.0M [00:02<00:00, 23.5MB/s]\n",
            "100% 41.0M/41.0M [00:02<00:00, 14.7MB/s]\n"
          ]
        }
      ]
    },
    {
      "cell_type": "code",
      "source": [
        "import zipfile\n",
        "zip_ref = zipfile.ZipFile('/content/fake-and-real-news-dataset.zip', 'r')\n",
        "zip_ref.extractall('/content')\n",
        "zip_ref.close()"
      ],
      "metadata": {
        "id": "bnzRVxaAjS9o"
      },
      "execution_count": null,
      "outputs": []
    },
    {
      "cell_type": "code",
      "source": [
        "import pandas as pd\n",
        "import numpy as np\n",
        "import tensorflow as tf\n",
        "from tensorflow import keras\n",
        "from tensorflow.keras.layers import Dense, LSTM, Activation\n",
        "from tensorflow.keras.models import Sequential, load_model"
      ],
      "metadata": {
        "id": "xBNazsELjfVX"
      },
      "execution_count": null,
      "outputs": []
    },
    {
      "cell_type": "code",
      "source": [
        "from nltk.tokenize import RegexpTokenizer"
      ],
      "metadata": {
        "id": "AooZR9yGsY_C"
      },
      "execution_count": null,
      "outputs": []
    },
    {
      "cell_type": "code",
      "source": [
        "real_news = pd.read_csv(\"/content/True.csv\")"
      ],
      "metadata": {
        "id": "RnvNBCXWlHQs"
      },
      "execution_count": null,
      "outputs": []
    },
    {
      "cell_type": "code",
      "source": [
        "real_news"
      ],
      "metadata": {
        "colab": {
          "base_uri": "https://localhost:8080/",
          "height": 423
        },
        "id": "UxG9PbzllXyp",
        "outputId": "8525fe18-e88a-40e3-b6b2-4df1c5949e0d"
      },
      "execution_count": null,
      "outputs": [
        {
          "output_type": "execute_result",
          "data": {
            "text/plain": [
              "                                                   title  \\\n",
              "0      As U.S. budget fight looms, Republicans flip t...   \n",
              "1      U.S. military to accept transgender recruits o...   \n",
              "2      Senior U.S. Republican senator: 'Let Mr. Muell...   \n",
              "3      FBI Russia probe helped by Australian diplomat...   \n",
              "4      Trump wants Postal Service to charge 'much mor...   \n",
              "...                                                  ...   \n",
              "21412  'Fully committed' NATO backs new U.S. approach...   \n",
              "21413  LexisNexis withdrew two products from Chinese ...   \n",
              "21414  Minsk cultural hub becomes haven from authorities   \n",
              "21415  Vatican upbeat on possibility of Pope Francis ...   \n",
              "21416  Indonesia to buy $1.14 billion worth of Russia...   \n",
              "\n",
              "                                                    text       subject  \\\n",
              "0      WASHINGTON (Reuters) - The head of a conservat...  politicsNews   \n",
              "1      WASHINGTON (Reuters) - Transgender people will...  politicsNews   \n",
              "2      WASHINGTON (Reuters) - The special counsel inv...  politicsNews   \n",
              "3      WASHINGTON (Reuters) - Trump campaign adviser ...  politicsNews   \n",
              "4      SEATTLE/WASHINGTON (Reuters) - President Donal...  politicsNews   \n",
              "...                                                  ...           ...   \n",
              "21412  BRUSSELS (Reuters) - NATO allies on Tuesday we...     worldnews   \n",
              "21413  LONDON (Reuters) - LexisNexis, a provider of l...     worldnews   \n",
              "21414  MINSK (Reuters) - In the shadow of disused Sov...     worldnews   \n",
              "21415  MOSCOW (Reuters) - Vatican Secretary of State ...     worldnews   \n",
              "21416  JAKARTA (Reuters) - Indonesia will buy 11 Sukh...     worldnews   \n",
              "\n",
              "                     date  \n",
              "0      December 31, 2017   \n",
              "1      December 29, 2017   \n",
              "2      December 31, 2017   \n",
              "3      December 30, 2017   \n",
              "4      December 29, 2017   \n",
              "...                   ...  \n",
              "21412    August 22, 2017   \n",
              "21413    August 22, 2017   \n",
              "21414    August 22, 2017   \n",
              "21415    August 22, 2017   \n",
              "21416    August 22, 2017   \n",
              "\n",
              "[21417 rows x 4 columns]"
            ],
            "text/html": [
              "\n",
              "  <div id=\"df-3fecb4c7-b376-4154-b128-da75b92f5860\" class=\"colab-df-container\">\n",
              "    <div>\n",
              "<style scoped>\n",
              "    .dataframe tbody tr th:only-of-type {\n",
              "        vertical-align: middle;\n",
              "    }\n",
              "\n",
              "    .dataframe tbody tr th {\n",
              "        vertical-align: top;\n",
              "    }\n",
              "\n",
              "    .dataframe thead th {\n",
              "        text-align: right;\n",
              "    }\n",
              "</style>\n",
              "<table border=\"1\" class=\"dataframe\">\n",
              "  <thead>\n",
              "    <tr style=\"text-align: right;\">\n",
              "      <th></th>\n",
              "      <th>title</th>\n",
              "      <th>text</th>\n",
              "      <th>subject</th>\n",
              "      <th>date</th>\n",
              "    </tr>\n",
              "  </thead>\n",
              "  <tbody>\n",
              "    <tr>\n",
              "      <th>0</th>\n",
              "      <td>As U.S. budget fight looms, Republicans flip t...</td>\n",
              "      <td>WASHINGTON (Reuters) - The head of a conservat...</td>\n",
              "      <td>politicsNews</td>\n",
              "      <td>December 31, 2017</td>\n",
              "    </tr>\n",
              "    <tr>\n",
              "      <th>1</th>\n",
              "      <td>U.S. military to accept transgender recruits o...</td>\n",
              "      <td>WASHINGTON (Reuters) - Transgender people will...</td>\n",
              "      <td>politicsNews</td>\n",
              "      <td>December 29, 2017</td>\n",
              "    </tr>\n",
              "    <tr>\n",
              "      <th>2</th>\n",
              "      <td>Senior U.S. Republican senator: 'Let Mr. Muell...</td>\n",
              "      <td>WASHINGTON (Reuters) - The special counsel inv...</td>\n",
              "      <td>politicsNews</td>\n",
              "      <td>December 31, 2017</td>\n",
              "    </tr>\n",
              "    <tr>\n",
              "      <th>3</th>\n",
              "      <td>FBI Russia probe helped by Australian diplomat...</td>\n",
              "      <td>WASHINGTON (Reuters) - Trump campaign adviser ...</td>\n",
              "      <td>politicsNews</td>\n",
              "      <td>December 30, 2017</td>\n",
              "    </tr>\n",
              "    <tr>\n",
              "      <th>4</th>\n",
              "      <td>Trump wants Postal Service to charge 'much mor...</td>\n",
              "      <td>SEATTLE/WASHINGTON (Reuters) - President Donal...</td>\n",
              "      <td>politicsNews</td>\n",
              "      <td>December 29, 2017</td>\n",
              "    </tr>\n",
              "    <tr>\n",
              "      <th>...</th>\n",
              "      <td>...</td>\n",
              "      <td>...</td>\n",
              "      <td>...</td>\n",
              "      <td>...</td>\n",
              "    </tr>\n",
              "    <tr>\n",
              "      <th>21412</th>\n",
              "      <td>'Fully committed' NATO backs new U.S. approach...</td>\n",
              "      <td>BRUSSELS (Reuters) - NATO allies on Tuesday we...</td>\n",
              "      <td>worldnews</td>\n",
              "      <td>August 22, 2017</td>\n",
              "    </tr>\n",
              "    <tr>\n",
              "      <th>21413</th>\n",
              "      <td>LexisNexis withdrew two products from Chinese ...</td>\n",
              "      <td>LONDON (Reuters) - LexisNexis, a provider of l...</td>\n",
              "      <td>worldnews</td>\n",
              "      <td>August 22, 2017</td>\n",
              "    </tr>\n",
              "    <tr>\n",
              "      <th>21414</th>\n",
              "      <td>Minsk cultural hub becomes haven from authorities</td>\n",
              "      <td>MINSK (Reuters) - In the shadow of disused Sov...</td>\n",
              "      <td>worldnews</td>\n",
              "      <td>August 22, 2017</td>\n",
              "    </tr>\n",
              "    <tr>\n",
              "      <th>21415</th>\n",
              "      <td>Vatican upbeat on possibility of Pope Francis ...</td>\n",
              "      <td>MOSCOW (Reuters) - Vatican Secretary of State ...</td>\n",
              "      <td>worldnews</td>\n",
              "      <td>August 22, 2017</td>\n",
              "    </tr>\n",
              "    <tr>\n",
              "      <th>21416</th>\n",
              "      <td>Indonesia to buy $1.14 billion worth of Russia...</td>\n",
              "      <td>JAKARTA (Reuters) - Indonesia will buy 11 Sukh...</td>\n",
              "      <td>worldnews</td>\n",
              "      <td>August 22, 2017</td>\n",
              "    </tr>\n",
              "  </tbody>\n",
              "</table>\n",
              "<p>21417 rows × 4 columns</p>\n",
              "</div>\n",
              "    <div class=\"colab-df-buttons\">\n",
              "\n",
              "  <div class=\"colab-df-container\">\n",
              "    <button class=\"colab-df-convert\" onclick=\"convertToInteractive('df-3fecb4c7-b376-4154-b128-da75b92f5860')\"\n",
              "            title=\"Convert this dataframe to an interactive table.\"\n",
              "            style=\"display:none;\">\n",
              "\n",
              "  <svg xmlns=\"http://www.w3.org/2000/svg\" height=\"24px\" viewBox=\"0 -960 960 960\">\n",
              "    <path d=\"M120-120v-720h720v720H120Zm60-500h600v-160H180v160Zm220 220h160v-160H400v160Zm0 220h160v-160H400v160ZM180-400h160v-160H180v160Zm440 0h160v-160H620v160ZM180-180h160v-160H180v160Zm440 0h160v-160H620v160Z\"/>\n",
              "  </svg>\n",
              "    </button>\n",
              "\n",
              "  <style>\n",
              "    .colab-df-container {\n",
              "      display:flex;\n",
              "      gap: 12px;\n",
              "    }\n",
              "\n",
              "    .colab-df-convert {\n",
              "      background-color: #E8F0FE;\n",
              "      border: none;\n",
              "      border-radius: 50%;\n",
              "      cursor: pointer;\n",
              "      display: none;\n",
              "      fill: #1967D2;\n",
              "      height: 32px;\n",
              "      padding: 0 0 0 0;\n",
              "      width: 32px;\n",
              "    }\n",
              "\n",
              "    .colab-df-convert:hover {\n",
              "      background-color: #E2EBFA;\n",
              "      box-shadow: 0px 1px 2px rgba(60, 64, 67, 0.3), 0px 1px 3px 1px rgba(60, 64, 67, 0.15);\n",
              "      fill: #174EA6;\n",
              "    }\n",
              "\n",
              "    .colab-df-buttons div {\n",
              "      margin-bottom: 4px;\n",
              "    }\n",
              "\n",
              "    [theme=dark] .colab-df-convert {\n",
              "      background-color: #3B4455;\n",
              "      fill: #D2E3FC;\n",
              "    }\n",
              "\n",
              "    [theme=dark] .colab-df-convert:hover {\n",
              "      background-color: #434B5C;\n",
              "      box-shadow: 0px 1px 3px 1px rgba(0, 0, 0, 0.15);\n",
              "      filter: drop-shadow(0px 1px 2px rgba(0, 0, 0, 0.3));\n",
              "      fill: #FFFFFF;\n",
              "    }\n",
              "  </style>\n",
              "\n",
              "    <script>\n",
              "      const buttonEl =\n",
              "        document.querySelector('#df-3fecb4c7-b376-4154-b128-da75b92f5860 button.colab-df-convert');\n",
              "      buttonEl.style.display =\n",
              "        google.colab.kernel.accessAllowed ? 'block' : 'none';\n",
              "\n",
              "      async function convertToInteractive(key) {\n",
              "        const element = document.querySelector('#df-3fecb4c7-b376-4154-b128-da75b92f5860');\n",
              "        const dataTable =\n",
              "          await google.colab.kernel.invokeFunction('convertToInteractive',\n",
              "                                                    [key], {});\n",
              "        if (!dataTable) return;\n",
              "\n",
              "        const docLinkHtml = 'Like what you see? Visit the ' +\n",
              "          '<a target=\"_blank\" href=https://colab.research.google.com/notebooks/data_table.ipynb>data table notebook</a>'\n",
              "          + ' to learn more about interactive tables.';\n",
              "        element.innerHTML = '';\n",
              "        dataTable['output_type'] = 'display_data';\n",
              "        await google.colab.output.renderOutput(dataTable, element);\n",
              "        const docLink = document.createElement('div');\n",
              "        docLink.innerHTML = docLinkHtml;\n",
              "        element.appendChild(docLink);\n",
              "      }\n",
              "    </script>\n",
              "  </div>\n",
              "\n",
              "\n",
              "<div id=\"df-ceb3479d-e24c-4efa-9467-f8be4e1c53d4\">\n",
              "  <button class=\"colab-df-quickchart\" onclick=\"quickchart('df-ceb3479d-e24c-4efa-9467-f8be4e1c53d4')\"\n",
              "            title=\"Suggest charts.\"\n",
              "            style=\"display:none;\">\n",
              "\n",
              "<svg xmlns=\"http://www.w3.org/2000/svg\" height=\"24px\"viewBox=\"0 0 24 24\"\n",
              "     width=\"24px\">\n",
              "    <g>\n",
              "        <path d=\"M19 3H5c-1.1 0-2 .9-2 2v14c0 1.1.9 2 2 2h14c1.1 0 2-.9 2-2V5c0-1.1-.9-2-2-2zM9 17H7v-7h2v7zm4 0h-2V7h2v10zm4 0h-2v-4h2v4z\"/>\n",
              "    </g>\n",
              "</svg>\n",
              "  </button>\n",
              "\n",
              "<style>\n",
              "  .colab-df-quickchart {\n",
              "    background-color: #E8F0FE;\n",
              "    border: none;\n",
              "    border-radius: 50%;\n",
              "    cursor: pointer;\n",
              "    display: none;\n",
              "    fill: #1967D2;\n",
              "    height: 32px;\n",
              "    padding: 0 0 0 0;\n",
              "    width: 32px;\n",
              "  }\n",
              "\n",
              "  .colab-df-quickchart:hover {\n",
              "    background-color: #E2EBFA;\n",
              "    box-shadow: 0px 1px 2px rgba(60, 64, 67, 0.3), 0px 1px 3px 1px rgba(60, 64, 67, 0.15);\n",
              "    fill: #174EA6;\n",
              "  }\n",
              "\n",
              "  [theme=dark] .colab-df-quickchart {\n",
              "    background-color: #3B4455;\n",
              "    fill: #D2E3FC;\n",
              "  }\n",
              "\n",
              "  [theme=dark] .colab-df-quickchart:hover {\n",
              "    background-color: #434B5C;\n",
              "    box-shadow: 0px 1px 3px 1px rgba(0, 0, 0, 0.15);\n",
              "    filter: drop-shadow(0px 1px 2px rgba(0, 0, 0, 0.3));\n",
              "    fill: #FFFFFF;\n",
              "  }\n",
              "</style>\n",
              "\n",
              "  <script>\n",
              "    async function quickchart(key) {\n",
              "      const charts = await google.colab.kernel.invokeFunction(\n",
              "          'suggestCharts', [key], {});\n",
              "    }\n",
              "    (() => {\n",
              "      let quickchartButtonEl =\n",
              "        document.querySelector('#df-ceb3479d-e24c-4efa-9467-f8be4e1c53d4 button');\n",
              "      quickchartButtonEl.style.display =\n",
              "        google.colab.kernel.accessAllowed ? 'block' : 'none';\n",
              "    })();\n",
              "  </script>\n",
              "</div>\n",
              "    </div>\n",
              "  </div>\n"
            ]
          },
          "metadata": {},
          "execution_count": 10
        }
      ]
    },
    {
      "cell_type": "code",
      "source": [
        "real_news['text'][0]"
      ],
      "metadata": {
        "colab": {
          "base_uri": "https://localhost:8080/",
          "height": 123
        },
        "id": "KUykxmfHCzKO",
        "outputId": "ff0fedf0-bd0e-4ed2-de25-a55422cbb6c9"
      },
      "execution_count": null,
      "outputs": [
        {
          "output_type": "execute_result",
          "data": {
            "text/plain": [
              "'WASHINGTON (Reuters) - The head of a conservative Republican faction in the U.S. Congress, who voted this month for a huge expansion of the national debt to pay for tax cuts, called himself a “fiscal conservative” on Sunday and urged budget restraint in 2018. In keeping with a sharp pivot under way among Republicans, U.S. Representative Mark Meadows, speaking on CBS’ “Face the Nation,” drew a hard line on federal spending, which lawmakers are bracing to do battle over in January. When they return from the holidays on Wednesday, lawmakers will begin trying to pass a federal budget in a fight likely to be linked to other issues, such as immigration policy, even as the November congressional election campaigns approach in which Republicans will seek to keep control of Congress. President Donald Trump and his Republicans want a big budget increase in military spending, while Democrats also want proportional increases for non-defense “discretionary” spending on programs that support education, scientific research, infrastructure, public health and environmental protection. “The (Trump) administration has already been willing to say: ‘We’re going to increase non-defense discretionary spending ... by about 7 percent,’” Meadows, chairman of the small but influential House Freedom Caucus, said on the program. “Now, Democrats are saying that’s not enough, we need to give the government a pay raise of 10 to 11 percent. For a fiscal conservative, I don’t see where the rationale is. ... Eventually you run out of other people’s money,” he said. Meadows was among Republicans who voted in late December for their party’s debt-financed tax overhaul, which is expected to balloon the federal budget deficit and add about $1.5 trillion over 10 years to the $20 trillion national debt. “It’s interesting to hear Mark talk about fiscal responsibility,” Democratic U.S. Representative Joseph Crowley said on CBS. Crowley said the Republican tax bill would require the  United States to borrow $1.5 trillion, to be paid off by future generations, to finance tax cuts for corporations and the rich. “This is one of the least ... fiscally responsible bills we’ve ever seen passed in the history of the House of Representatives. I think we’re going to be paying for this for many, many years to come,” Crowley said. Republicans insist the tax package, the biggest U.S. tax overhaul in more than 30 years,  will boost the economy and job growth. House Speaker Paul Ryan, who also supported the tax bill, recently went further than Meadows, making clear in a radio interview that welfare or “entitlement reform,” as the party often calls it, would be a top Republican priority in 2018. In Republican parlance, “entitlement” programs mean food stamps, housing assistance, Medicare and Medicaid health insurance for the elderly, poor and disabled, as well as other programs created by Washington to assist the needy. Democrats seized on Ryan’s early December remarks, saying they showed Republicans would try to pay for their tax overhaul by seeking spending cuts for social programs. But the goals of House Republicans may have to take a back seat to the Senate, where the votes of some Democrats will be needed to approve a budget and prevent a government shutdown. Democrats will use their leverage in the Senate, which Republicans narrowly control, to defend both discretionary non-defense programs and social spending, while tackling the issue of the “Dreamers,” people brought illegally to the country as children. Trump in September put a March 2018 expiration date on the Deferred Action for Childhood Arrivals, or DACA, program, which protects the young immigrants from deportation and provides them with work permits. The president has said in recent Twitter messages he wants funding for his proposed Mexican border wall and other immigration law changes in exchange for agreeing to help the Dreamers. Representative Debbie Dingell told CBS she did not favor linking that issue to other policy objectives, such as wall funding. “We need to do DACA clean,” she said.  On Wednesday, Trump aides will meet with congressional leaders to discuss those issues. That will be followed by a weekend of strategy sessions for Trump and Republican leaders on Jan. 6 and 7, the White House said. Trump was also scheduled to meet on Sunday with Florida Republican Governor Rick Scott, who wants more emergency aid. The House has passed an $81 billion aid package after hurricanes in Florida, Texas and Puerto Rico, and wildfires in California. The package far exceeded the $44 billion requested by the Trump administration. The Senate has not yet voted on the aid. '"
            ],
            "application/vnd.google.colaboratory.intrinsic+json": {
              "type": "string"
            }
          },
          "metadata": {},
          "execution_count": 11
        }
      ]
    },
    {
      "cell_type": "code",
      "source": [
        "text=list (real_news.text.values)"
      ],
      "metadata": {
        "id": "ft7aaJTslauG"
      },
      "execution_count": null,
      "outputs": []
    },
    {
      "cell_type": "code",
      "source": [
        "join_text=\" \".join(text)"
      ],
      "metadata": {
        "id": "QtRcGVgEr2xT"
      },
      "execution_count": null,
      "outputs": []
    },
    {
      "cell_type": "code",
      "source": [
        "partial_text = join_text[:10000]"
      ],
      "metadata": {
        "id": "bJLV--xksFJP"
      },
      "execution_count": null,
      "outputs": []
    },
    {
      "cell_type": "code",
      "source": [
        "tokenizer=RegexpTokenizer(r\"\\w+\")"
      ],
      "metadata": {
        "id": "GdHNUGT8sQrB"
      },
      "execution_count": null,
      "outputs": []
    },
    {
      "cell_type": "code",
      "source": [
        "token = tokenizer.tokenize(partial_text.lower())"
      ],
      "metadata": {
        "id": "02Gz7D7ssvsw"
      },
      "execution_count": null,
      "outputs": []
    },
    {
      "cell_type": "code",
      "source": [
        "#token"
      ],
      "metadata": {
        "id": "8dA3RThPtDUp"
      },
      "execution_count": null,
      "outputs": []
    },
    {
      "cell_type": "code",
      "source": [
        "unique_token = np.unique(token)"
      ],
      "metadata": {
        "id": "Bl7ZOCvHtEfV"
      },
      "execution_count": null,
      "outputs": []
    },
    {
      "cell_type": "code",
      "source": [
        "unique_token_index={tokens : idx for idx , tokens in enumerate(unique_token)}"
      ],
      "metadata": {
        "id": "e2_wuLEtuLOU"
      },
      "execution_count": null,
      "outputs": []
    },
    {
      "cell_type": "code",
      "source": [
        "n_word=10\n",
        "input_word=[]\n",
        "next_word=[]"
      ],
      "metadata": {
        "id": "GMF_Jz-3uoTq"
      },
      "execution_count": null,
      "outputs": []
    },
    {
      "cell_type": "code",
      "source": [
        "for i in range(len(token)-n_word):\n",
        "  input_word.append(token[i:i+n_word])\n",
        "  next_word.append(token[i+n_word])"
      ],
      "metadata": {
        "id": "lg-zoxYMuqvx"
      },
      "execution_count": null,
      "outputs": []
    },
    {
      "cell_type": "code",
      "source": [
        "x= np.zeros((len(input_word), n_word, len(unique_token)), dtype=bool)\n",
        "y=np.zeros((len(next_word), len(unique_token)), dtype=bool)"
      ],
      "metadata": {
        "id": "4rpF1Zruxr_K"
      },
      "execution_count": null,
      "outputs": []
    },
    {
      "cell_type": "code",
      "source": [
        "for i , words in enumerate(input_word):\n",
        "  for j, word in enumerate(words):\n",
        "    x[i, j, unique_token_index[word]]=1\n",
        "  y[i, unique_token_index[next_word[i]]]=1"
      ],
      "metadata": {
        "id": "O_Q7USzyxwnM"
      },
      "execution_count": null,
      "outputs": []
    },
    {
      "cell_type": "code",
      "source": [
        "model=Sequential()"
      ],
      "metadata": {
        "id": "vae4cv0-zbX4"
      },
      "execution_count": null,
      "outputs": []
    },
    {
      "cell_type": "code",
      "source": [
        "model.add(LSTM(128, input_shape=(n_word, len(unique_token)), return_sequences=True))\n",
        "model.add(LSTM(128))\n",
        "model.add(Dense(len(unique_token)))\n",
        "model.add(Activation(\"softmax\"))"
      ],
      "metadata": {
        "id": "0DBYmEx309ZW"
      },
      "execution_count": null,
      "outputs": []
    },
    {
      "cell_type": "code",
      "source": [
        "from tensorflow.keras.optimizers import RMSprop"
      ],
      "metadata": {
        "id": "Ra-1huQ2tlBB"
      },
      "execution_count": null,
      "outputs": []
    },
    {
      "cell_type": "code",
      "source": [
        "model.compile(loss=\"categorical_crossentropy\", optimizer=RMSprop(learning_rate=0.01), metrics=['accuracy'])"
      ],
      "metadata": {
        "id": "mSwN50JBsw7b"
      },
      "execution_count": null,
      "outputs": []
    },
    {
      "cell_type": "code",
      "source": [
        "model.fit(x,y,batch_size=128,epochs=100, shuffle=True)"
      ],
      "metadata": {
        "colab": {
          "base_uri": "https://localhost:8080/"
        },
        "id": "5Ha99PwH37uT",
        "outputId": "752ab377-c441-4b2b-ef28-6c368c722bee"
      },
      "execution_count": null,
      "outputs": [
        {
          "output_type": "stream",
          "name": "stdout",
          "text": [
            "Epoch 1/100\n",
            "13/13 [==============================] - 9s 9ms/step - loss: 6.1602 - accuracy: 0.0488\n",
            "Epoch 2/100\n",
            "13/13 [==============================] - 0s 8ms/step - loss: 5.8805 - accuracy: 0.0607\n",
            "Epoch 3/100\n",
            "13/13 [==============================] - 0s 8ms/step - loss: 5.8352 - accuracy: 0.0594\n",
            "Epoch 4/100\n",
            "13/13 [==============================] - 0s 7ms/step - loss: 5.8203 - accuracy: 0.0607\n",
            "Epoch 5/100\n",
            "13/13 [==============================] - 0s 8ms/step - loss: 5.8032 - accuracy: 0.0607\n",
            "Epoch 6/100\n",
            "13/13 [==============================] - 0s 7ms/step - loss: 5.7866 - accuracy: 0.0607\n",
            "Epoch 7/100\n",
            "13/13 [==============================] - 0s 7ms/step - loss: 5.7687 - accuracy: 0.0607\n",
            "Epoch 8/100\n",
            "13/13 [==============================] - 0s 7ms/step - loss: 5.7351 - accuracy: 0.0594\n",
            "Epoch 9/100\n",
            "13/13 [==============================] - 0s 7ms/step - loss: 5.6783 - accuracy: 0.0576\n",
            "Epoch 10/100\n",
            "13/13 [==============================] - 0s 7ms/step - loss: 5.6091 - accuracy: 0.0588\n",
            "Epoch 11/100\n",
            "13/13 [==============================] - 0s 7ms/step - loss: 5.4753 - accuracy: 0.0538\n",
            "Epoch 12/100\n",
            "13/13 [==============================] - 0s 7ms/step - loss: 5.3115 - accuracy: 0.0645\n",
            "Epoch 13/100\n",
            "13/13 [==============================] - 0s 7ms/step - loss: 5.1153 - accuracy: 0.0763\n",
            "Epoch 14/100\n",
            "13/13 [==============================] - 0s 7ms/step - loss: 4.9053 - accuracy: 0.0826\n",
            "Epoch 15/100\n",
            "13/13 [==============================] - 0s 7ms/step - loss: 4.5360 - accuracy: 0.1058\n",
            "Epoch 16/100\n",
            "13/13 [==============================] - 0s 8ms/step - loss: 4.2619 - accuracy: 0.1252\n",
            "Epoch 17/100\n",
            "13/13 [==============================] - 0s 7ms/step - loss: 3.8139 - accuracy: 0.1665\n",
            "Epoch 18/100\n",
            "13/13 [==============================] - 0s 7ms/step - loss: 3.4580 - accuracy: 0.1990\n",
            "Epoch 19/100\n",
            "13/13 [==============================] - 0s 7ms/step - loss: 3.1162 - accuracy: 0.2597\n",
            "Epoch 20/100\n",
            "13/13 [==============================] - 0s 7ms/step - loss: 2.6721 - accuracy: 0.3573\n",
            "Epoch 21/100\n",
            "13/13 [==============================] - 0s 6ms/step - loss: 2.3155 - accuracy: 0.4449\n",
            "Epoch 22/100\n",
            "13/13 [==============================] - 0s 7ms/step - loss: 1.9967 - accuracy: 0.5200\n",
            "Epoch 23/100\n",
            "13/13 [==============================] - 0s 7ms/step - loss: 1.6684 - accuracy: 0.6214\n",
            "Epoch 24/100\n",
            "13/13 [==============================] - 0s 6ms/step - loss: 1.2998 - accuracy: 0.7372\n",
            "Epoch 25/100\n",
            "13/13 [==============================] - 0s 7ms/step - loss: 1.0781 - accuracy: 0.8041\n",
            "Epoch 26/100\n",
            "13/13 [==============================] - 0s 7ms/step - loss: 0.8258 - accuracy: 0.8705\n",
            "Epoch 27/100\n",
            "13/13 [==============================] - 0s 6ms/step - loss: 0.6025 - accuracy: 0.9199\n",
            "Epoch 28/100\n",
            "13/13 [==============================] - 0s 7ms/step - loss: 0.5476 - accuracy: 0.9299\n",
            "Epoch 29/100\n",
            "13/13 [==============================] - 0s 7ms/step - loss: 0.3840 - accuracy: 0.9606\n",
            "Epoch 30/100\n",
            "13/13 [==============================] - 0s 6ms/step - loss: 0.2204 - accuracy: 0.9844\n",
            "Epoch 31/100\n",
            "13/13 [==============================] - 0s 7ms/step - loss: 0.2505 - accuracy: 0.9787\n",
            "Epoch 32/100\n",
            "13/13 [==============================] - 0s 7ms/step - loss: 0.2370 - accuracy: 0.9712\n",
            "Epoch 33/100\n",
            "13/13 [==============================] - 0s 7ms/step - loss: 0.0887 - accuracy: 0.9969\n",
            "Epoch 34/100\n",
            "13/13 [==============================] - 0s 7ms/step - loss: 0.1078 - accuracy: 0.9887\n",
            "Epoch 35/100\n",
            "13/13 [==============================] - 0s 7ms/step - loss: 0.2665 - accuracy: 0.9537\n",
            "Epoch 36/100\n",
            "13/13 [==============================] - 0s 6ms/step - loss: 0.0480 - accuracy: 1.0000\n",
            "Epoch 37/100\n",
            "13/13 [==============================] - 0s 7ms/step - loss: 0.0199 - accuracy: 1.0000\n",
            "Epoch 38/100\n",
            "13/13 [==============================] - 0s 7ms/step - loss: 0.0125 - accuracy: 1.0000\n",
            "Epoch 39/100\n",
            "13/13 [==============================] - 0s 7ms/step - loss: 0.0098 - accuracy: 1.0000\n",
            "Epoch 40/100\n",
            "13/13 [==============================] - 0s 7ms/step - loss: 0.0081 - accuracy: 1.0000\n",
            "Epoch 41/100\n",
            "13/13 [==============================] - 0s 7ms/step - loss: 0.0070 - accuracy: 1.0000\n",
            "Epoch 42/100\n",
            "13/13 [==============================] - 0s 7ms/step - loss: 0.0064 - accuracy: 1.0000\n",
            "Epoch 43/100\n",
            "13/13 [==============================] - 0s 8ms/step - loss: 0.0057 - accuracy: 1.0000\n",
            "Epoch 44/100\n",
            "13/13 [==============================] - 0s 7ms/step - loss: 0.0050 - accuracy: 1.0000\n",
            "Epoch 45/100\n",
            "13/13 [==============================] - 0s 7ms/step - loss: 0.0046 - accuracy: 1.0000\n",
            "Epoch 46/100\n",
            "13/13 [==============================] - 0s 7ms/step - loss: 0.0043 - accuracy: 1.0000\n",
            "Epoch 47/100\n",
            "13/13 [==============================] - 0s 7ms/step - loss: 0.0040 - accuracy: 1.0000\n",
            "Epoch 48/100\n",
            "13/13 [==============================] - 0s 7ms/step - loss: 0.0036 - accuracy: 1.0000\n",
            "Epoch 49/100\n",
            "13/13 [==============================] - 0s 6ms/step - loss: 0.0034 - accuracy: 1.0000\n",
            "Epoch 50/100\n",
            "13/13 [==============================] - 0s 7ms/step - loss: 0.0033 - accuracy: 1.0000\n",
            "Epoch 51/100\n",
            "13/13 [==============================] - 0s 6ms/step - loss: 0.0030 - accuracy: 1.0000\n",
            "Epoch 52/100\n",
            "13/13 [==============================] - 0s 7ms/step - loss: 0.0029 - accuracy: 1.0000\n",
            "Epoch 53/100\n",
            "13/13 [==============================] - 0s 6ms/step - loss: 0.0027 - accuracy: 1.0000\n",
            "Epoch 54/100\n",
            "13/13 [==============================] - 0s 7ms/step - loss: 0.0026 - accuracy: 1.0000\n",
            "Epoch 55/100\n",
            "13/13 [==============================] - 0s 7ms/step - loss: 0.0025 - accuracy: 1.0000\n",
            "Epoch 56/100\n",
            "13/13 [==============================] - 0s 7ms/step - loss: 0.0024 - accuracy: 1.0000\n",
            "Epoch 57/100\n",
            "13/13 [==============================] - 0s 7ms/step - loss: 0.0023 - accuracy: 1.0000\n",
            "Epoch 58/100\n",
            "13/13 [==============================] - 0s 6ms/step - loss: 0.0022 - accuracy: 1.0000\n",
            "Epoch 59/100\n",
            "13/13 [==============================] - 0s 6ms/step - loss: 0.0021 - accuracy: 1.0000\n",
            "Epoch 60/100\n",
            "13/13 [==============================] - 0s 7ms/step - loss: 0.0020 - accuracy: 1.0000\n",
            "Epoch 61/100\n",
            "13/13 [==============================] - 0s 7ms/step - loss: 0.0020 - accuracy: 1.0000\n",
            "Epoch 62/100\n",
            "13/13 [==============================] - 0s 7ms/step - loss: 0.0019 - accuracy: 1.0000\n",
            "Epoch 63/100\n",
            "13/13 [==============================] - 0s 7ms/step - loss: 0.0018 - accuracy: 1.0000\n",
            "Epoch 64/100\n",
            "13/13 [==============================] - 0s 7ms/step - loss: 0.0018 - accuracy: 1.0000\n",
            "Epoch 65/100\n",
            "13/13 [==============================] - 0s 7ms/step - loss: 0.0017 - accuracy: 1.0000\n",
            "Epoch 66/100\n",
            "13/13 [==============================] - 0s 7ms/step - loss: 0.0017 - accuracy: 1.0000\n",
            "Epoch 67/100\n",
            "13/13 [==============================] - 0s 7ms/step - loss: 0.0016 - accuracy: 1.0000\n",
            "Epoch 68/100\n",
            "13/13 [==============================] - 0s 7ms/step - loss: 0.0016 - accuracy: 1.0000\n",
            "Epoch 69/100\n",
            "13/13 [==============================] - 0s 7ms/step - loss: 0.0016 - accuracy: 1.0000\n",
            "Epoch 70/100\n",
            "13/13 [==============================] - 0s 7ms/step - loss: 0.0015 - accuracy: 1.0000\n",
            "Epoch 71/100\n",
            "13/13 [==============================] - 0s 6ms/step - loss: 0.0015 - accuracy: 1.0000\n",
            "Epoch 72/100\n",
            "13/13 [==============================] - 0s 6ms/step - loss: 0.0014 - accuracy: 1.0000\n",
            "Epoch 73/100\n",
            "13/13 [==============================] - 0s 6ms/step - loss: 0.0014 - accuracy: 1.0000\n",
            "Epoch 74/100\n",
            "13/13 [==============================] - 0s 7ms/step - loss: 0.0014 - accuracy: 1.0000\n",
            "Epoch 75/100\n",
            "13/13 [==============================] - 0s 8ms/step - loss: 0.0013 - accuracy: 1.0000\n",
            "Epoch 76/100\n",
            "13/13 [==============================] - 0s 6ms/step - loss: 0.0013 - accuracy: 1.0000\n",
            "Epoch 77/100\n",
            "13/13 [==============================] - 0s 6ms/step - loss: 0.0013 - accuracy: 1.0000\n",
            "Epoch 78/100\n",
            "13/13 [==============================] - 0s 6ms/step - loss: 0.0013 - accuracy: 1.0000\n",
            "Epoch 79/100\n",
            "13/13 [==============================] - 0s 7ms/step - loss: 0.0012 - accuracy: 1.0000\n",
            "Epoch 80/100\n",
            "13/13 [==============================] - 0s 6ms/step - loss: 0.0012 - accuracy: 1.0000\n",
            "Epoch 81/100\n",
            "13/13 [==============================] - 0s 8ms/step - loss: 0.0012 - accuracy: 1.0000\n",
            "Epoch 82/100\n",
            "13/13 [==============================] - 0s 7ms/step - loss: 0.0012 - accuracy: 1.0000\n",
            "Epoch 83/100\n",
            "13/13 [==============================] - 0s 6ms/step - loss: 0.0011 - accuracy: 1.0000\n",
            "Epoch 84/100\n",
            "13/13 [==============================] - 0s 10ms/step - loss: 0.0011 - accuracy: 1.0000\n",
            "Epoch 85/100\n",
            "13/13 [==============================] - 0s 11ms/step - loss: 0.0011 - accuracy: 1.0000\n",
            "Epoch 86/100\n",
            "13/13 [==============================] - 0s 9ms/step - loss: 0.0011 - accuracy: 1.0000\n",
            "Epoch 87/100\n",
            "13/13 [==============================] - 0s 9ms/step - loss: 0.0011 - accuracy: 1.0000\n",
            "Epoch 88/100\n",
            "13/13 [==============================] - 0s 10ms/step - loss: 0.0010 - accuracy: 1.0000\n",
            "Epoch 89/100\n",
            "13/13 [==============================] - 0s 9ms/step - loss: 0.0010 - accuracy: 1.0000\n",
            "Epoch 90/100\n",
            "13/13 [==============================] - 0s 10ms/step - loss: 0.0010 - accuracy: 1.0000\n",
            "Epoch 91/100\n",
            "13/13 [==============================] - 0s 9ms/step - loss: 9.9216e-04 - accuracy: 1.0000\n",
            "Epoch 92/100\n",
            "13/13 [==============================] - 0s 9ms/step - loss: 9.7839e-04 - accuracy: 1.0000\n",
            "Epoch 93/100\n",
            "13/13 [==============================] - 0s 10ms/step - loss: 9.5693e-04 - accuracy: 1.0000\n",
            "Epoch 94/100\n",
            "13/13 [==============================] - 0s 8ms/step - loss: 9.4359e-04 - accuracy: 1.0000\n",
            "Epoch 95/100\n",
            "13/13 [==============================] - 0s 8ms/step - loss: 9.2881e-04 - accuracy: 1.0000\n",
            "Epoch 96/100\n",
            "13/13 [==============================] - 0s 8ms/step - loss: 9.1225e-04 - accuracy: 1.0000\n",
            "Epoch 97/100\n",
            "13/13 [==============================] - 0s 10ms/step - loss: 9.0176e-04 - accuracy: 1.0000\n",
            "Epoch 98/100\n",
            "13/13 [==============================] - 0s 8ms/step - loss: 8.8944e-04 - accuracy: 1.0000\n",
            "Epoch 99/100\n",
            "13/13 [==============================] - 0s 8ms/step - loss: 8.7285e-04 - accuracy: 1.0000\n",
            "Epoch 100/100\n",
            "13/13 [==============================] - 0s 9ms/step - loss: 8.6108e-04 - accuracy: 1.0000\n"
          ]
        },
        {
          "output_type": "execute_result",
          "data": {
            "text/plain": [
              "<keras.callbacks.History at 0x7b947810ae00>"
            ]
          },
          "metadata": {},
          "execution_count": 28
        }
      ]
    },
    {
      "cell_type": "code",
      "source": [
        "model.save('textGen.h5')"
      ],
      "metadata": {
        "id": "NXvTGifM5DWV"
      },
      "execution_count": null,
      "outputs": []
    },
    {
      "cell_type": "code",
      "source": [
        "model=load_model(\"/content/textGen.h5\")"
      ],
      "metadata": {
        "id": "dWU6P7dJAapw"
      },
      "execution_count": null,
      "outputs": []
    },
    {
      "cell_type": "code",
      "source": [
        "def predict_text_word(input_text, n_best):\n",
        "  input_text= input_text.lower()\n",
        "  x=np.zeros((1, n_word, len(unique_token)))\n",
        "  for i, word in enumerate(input_text.split()):\n",
        "    x[0,i,unique_token_index[word]] = 1\n",
        "  prediction = model.predict(x)[0]\n",
        "\n",
        "  return np.argpartition(prediction, n_best)[-n_best:]"
      ],
      "metadata": {
        "id": "zERveUEL5RP2"
      },
      "execution_count": null,
      "outputs": []
    },
    {
      "cell_type": "code",
      "source": [
        "possible = predict_text_word(\"he will have to took in this think and he \", 10)"
      ],
      "metadata": {
        "colab": {
          "base_uri": "https://localhost:8080/"
        },
        "id": "hc_rYvYtCDaU",
        "outputId": "4339fdf2-6d75-4aba-fa42-efd3ff46481d"
      },
      "execution_count": null,
      "outputs": [
        {
          "output_type": "stream",
          "name": "stdout",
          "text": [
            "1/1 [==============================] - 1s 625ms/step\n"
          ]
        }
      ]
    },
    {
      "cell_type": "code",
      "source": [
        "possible"
      ],
      "metadata": {
        "id": "Y2WMYd4OCcS3",
        "colab": {
          "base_uri": "https://localhost:8080/"
        },
        "outputId": "5038bf7b-5645-451c-9f81-c96c2beea58d"
      },
      "execution_count": null,
      "outputs": [
        {
          "output_type": "execute_result",
          "data": {
            "text/plain": [
              "array([630, 631, 632,   4, 634, 635, 636, 637,   2,   0])"
            ]
          },
          "metadata": {},
          "execution_count": 33
        }
      ]
    },
    {
      "cell_type": "code",
      "source": [
        "print([unique_token[idx] for idx in possible])"
      ],
      "metadata": {
        "colab": {
          "base_uri": "https://localhost:8080/"
        },
        "id": "G3_U1sTDyVoE",
        "outputId": "85aecb26-d805-4785-ff35-816ab719f2b0"
      },
      "execution_count": null,
      "outputs": [
        {
          "output_type": "stream",
          "name": "stdout",
          "text": [
            "['with', 'without', 'work', '2016', 'would', 'year', 'years', 'yet', '11', '1']\n"
          ]
        }
      ]
    },
    {
      "cell_type": "code",
      "source": [
        "import random"
      ],
      "metadata": {
        "id": "jPFEQgIwXgff"
      },
      "execution_count": null,
      "outputs": []
    },
    {
      "cell_type": "code",
      "source": [
        "from logging import exception\n",
        "def generate_sentence(input_text, text_length, creativity=3):\n",
        "  word_sequence=input_text.split()\n",
        "  current=0\n",
        "  for i in range(text_length):\n",
        "    sub_sequence=\" \".join(tokenizer.tokenize(\" \".join(word_sequence)))[current:current+n_word]\n",
        "    try:\n",
        "      choice= unique_token[random.choice(predict_text_word(sub_sequence, creativity))]\n",
        "    except:\n",
        "      choice=random.choice(unique_token)\n",
        "    word_sequence.append(choice)\n",
        "    current+=1\n",
        "  return \" \".join(word_sequence)"
      ],
      "metadata": {
        "id": "No4BBgSuytxW"
      },
      "execution_count": null,
      "outputs": []
    },
    {
      "cell_type": "code",
      "source": [
        "generate_sentence(\"how \", 2)"
      ],
      "metadata": {
        "colab": {
          "base_uri": "https://localhost:8080/",
          "height": 53
        },
        "id": "OyTsM65yZJSK",
        "outputId": "6e239590-3f29-49c4-8a9d-eacfad109a16"
      },
      "execution_count": null,
      "outputs": [
        {
          "output_type": "stream",
          "name": "stdout",
          "text": [
            "1/1 [==============================] - 0s 18ms/step\n"
          ]
        },
        {
          "output_type": "execute_result",
          "data": {
            "text/plain": [
              "'how you indefinitely'"
            ],
            "application/vnd.google.colaboratory.intrinsic+json": {
              "type": "string"
            }
          },
          "metadata": {},
          "execution_count": 54
        }
      ]
    },
    {
      "cell_type": "code",
      "source": [],
      "metadata": {
        "id": "7TNZO_l5Zhv9"
      },
      "execution_count": null,
      "outputs": []
    }
  ]
}